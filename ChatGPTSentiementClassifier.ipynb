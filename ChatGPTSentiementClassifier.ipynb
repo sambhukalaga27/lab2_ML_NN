{
 "cells": [
  {
   "cell_type": "code",
   "execution_count": 1,
   "metadata": {},
   "outputs": [],
   "source": [
    "# Install required packages if not already installed\n",
    "# !pip install datasets transformers tensorflow\n",
    "\n",
    "from datasets import load_dataset\n",
    "import tensorflow as tf\n",
    "import numpy as np\n",
    "\n",
    "# Load the IMDB dataset\n",
    "dataset = load_dataset(\"imdb\")\n"
   ]
  },
  {
   "cell_type": "code",
   "execution_count": 2,
   "metadata": {},
   "outputs": [],
   "source": [
    "from tensorflow.keras.preprocessing.text import Tokenizer\n",
    "from tensorflow.keras.preprocessing.sequence import pad_sequences\n",
    "\n",
    "max_words = 20000  # maximum number of words to consider\n",
    "max_len = 200      # maximum review length (in tokens)\n",
    "\n",
    "# Fit the tokenizer on training data\n",
    "tokenizer_keras = Tokenizer(num_words=max_words)\n",
    "tokenizer_keras.fit_on_texts(dataset[\"train\"][\"text\"])\n",
    "\n",
    "# Tokenize and pad training and test texts\n",
    "X_train = tokenizer_keras.texts_to_sequences(dataset[\"train\"][\"text\"])\n",
    "X_train = pad_sequences(X_train, maxlen=max_len)\n",
    "y_train = np.array(dataset[\"train\"][\"label\"])\n",
    "\n",
    "X_test = tokenizer_keras.texts_to_sequences(dataset[\"test\"][\"text\"])\n",
    "X_test = pad_sequences(X_test, maxlen=max_len)\n",
    "y_test = np.array(dataset[\"test\"][\"label\"])\n"
   ]
  },
  {
   "cell_type": "code",
   "execution_count": 3,
   "metadata": {},
   "outputs": [
    {
     "name": "stdout",
     "output_type": "stream",
     "text": [
      "Model: \"sequential\"\n",
      "_________________________________________________________________\n",
      " Layer (type)                Output Shape              Param #   \n",
      "=================================================================\n",
      " embedding (Embedding)       (None, 200, 128)          2560000   \n",
      "                                                                 \n",
      " conv1d (Conv1D)             (None, 196, 64)           41024     \n",
      "                                                                 \n",
      " max_pooling1d (MaxPooling1  (None, 49, 64)            0         \n",
      " D)                                                              \n",
      "                                                                 \n",
      " lstm (LSTM)                 (None, 64)                33024     \n",
      "                                                                 \n",
      " dense (Dense)               (None, 1)                 65        \n",
      "                                                                 \n",
      "=================================================================\n",
      "Total params: 2634113 (10.05 MB)\n",
      "Trainable params: 2634113 (10.05 MB)\n",
      "Non-trainable params: 0 (0.00 Byte)\n",
      "_________________________________________________________________\n",
      "Epoch 1/5\n",
      "782/782 [==============================] - 102s 125ms/step - loss: 0.3443 - accuracy: 0.8432 - val_loss: 0.2944 - val_accuracy: 0.8748\n",
      "Epoch 2/5\n",
      "782/782 [==============================] - 130s 166ms/step - loss: 0.1490 - accuracy: 0.9466 - val_loss: 0.3111 - val_accuracy: 0.8700\n",
      "Epoch 3/5\n",
      "782/782 [==============================] - 131s 168ms/step - loss: 0.0642 - accuracy: 0.9807 - val_loss: 0.3948 - val_accuracy: 0.8700\n",
      "Epoch 4/5\n",
      "782/782 [==============================] - 115s 147ms/step - loss: 0.0328 - accuracy: 0.9902 - val_loss: 0.4894 - val_accuracy: 0.8678\n",
      "Epoch 5/5\n",
      "782/782 [==============================] - 99s 127ms/step - loss: 0.0225 - accuracy: 0.9930 - val_loss: 0.5107 - val_accuracy: 0.8692\n"
     ]
    }
   ],
   "source": [
    "from tensorflow.keras.models import Sequential\n",
    "from tensorflow.keras.layers import Embedding, Conv1D, MaxPooling1D, LSTM, Dense\n",
    "\n",
    "baseline_model = Sequential([\n",
    "    Embedding(max_words, 128, input_length=max_len),\n",
    "    Conv1D(filters=64, kernel_size=5, activation='relu'),\n",
    "    MaxPooling1D(pool_size=4),\n",
    "    LSTM(64),\n",
    "    Dense(1, activation='sigmoid')\n",
    "])\n",
    "\n",
    "baseline_model.compile(loss='binary_crossentropy', optimizer='adam', metrics=['accuracy'])\n",
    "baseline_model.summary()\n",
    "\n",
    "# Train the baseline model\n",
    "history_baseline = baseline_model.fit(X_train, y_train,\n",
    "                                      batch_size=32,\n",
    "                                      epochs=5,\n",
    "                                      validation_data=(X_test, y_test))\n"
   ]
  },
  {
   "cell_type": "code",
   "execution_count": null,
   "metadata": {},
   "outputs": [
    {
     "data": {
      "application/vnd.jupyter.widget-view+json": {
       "model_id": "3b971dce524c41c58391699eda309d67",
       "version_major": 2,
       "version_minor": 0
      },
      "text/plain": [
       "tokenizer_config.json:   0%|          | 0.00/48.0 [00:00<?, ?B/s]"
      ]
     },
     "metadata": {},
     "output_type": "display_data"
    },
    {
     "name": "stderr",
     "output_type": "stream",
     "text": [
      "c:\\Users\\mmthe_22\\anaconda3\\Lib\\site-packages\\huggingface_hub\\file_download.py:142: UserWarning: `huggingface_hub` cache-system uses symlinks by default to efficiently store duplicated files but your machine does not support them in C:\\Users\\mmthe_22\\.cache\\huggingface\\hub\\models--bert-base-uncased. Caching files will still work but in a degraded version that might require more space on your disk. This warning can be disabled by setting the `HF_HUB_DISABLE_SYMLINKS_WARNING` environment variable. For more details, see https://huggingface.co/docs/huggingface_hub/how-to-cache#limitations.\n",
      "To support symlinks on Windows, you either need to activate Developer Mode or to run Python as an administrator. In order to activate developer mode, see this article: https://docs.microsoft.com/en-us/windows/apps/get-started/enable-your-device-for-development\n",
      "  warnings.warn(message)\n"
     ]
    },
    {
     "data": {
      "application/vnd.jupyter.widget-view+json": {
       "model_id": "5615d7f8e79744cb8343ff236cdeb2b0",
       "version_major": 2,
       "version_minor": 0
      },
      "text/plain": [
       "vocab.txt:   0%|          | 0.00/232k [00:00<?, ?B/s]"
      ]
     },
     "metadata": {},
     "output_type": "display_data"
    },
    {
     "data": {
      "application/vnd.jupyter.widget-view+json": {
       "model_id": "56736b51998c4fe8b3ea395747b5f3e5",
       "version_major": 2,
       "version_minor": 0
      },
      "text/plain": [
       "tokenizer.json:   0%|          | 0.00/466k [00:00<?, ?B/s]"
      ]
     },
     "metadata": {},
     "output_type": "display_data"
    },
    {
     "data": {
      "application/vnd.jupyter.widget-view+json": {
       "model_id": "a552b38b6bd7468b80a29354e6caaca9",
       "version_major": 2,
       "version_minor": 0
      },
      "text/plain": [
       "config.json:   0%|          | 0.00/570 [00:00<?, ?B/s]"
      ]
     },
     "metadata": {},
     "output_type": "display_data"
    },
    {
     "data": {
      "application/vnd.jupyter.widget-view+json": {
       "model_id": "b0aa219fed9841ac81e0911338680275",
       "version_major": 2,
       "version_minor": 0
      },
      "text/plain": [
       "Map:   0%|          | 0/25000 [00:00<?, ? examples/s]"
      ]
     },
     "metadata": {},
     "output_type": "display_data"
    },
    {
     "data": {
      "application/vnd.jupyter.widget-view+json": {
       "model_id": "6f89b243d5314585943d17c7f6efb69b",
       "version_major": 2,
       "version_minor": 0
      },
      "text/plain": [
       "Map:   0%|          | 0/25000 [00:00<?, ? examples/s]"
      ]
     },
     "metadata": {},
     "output_type": "display_data"
    },
    {
     "data": {
      "application/vnd.jupyter.widget-view+json": {
       "model_id": "7229f0d60742430ebf9a52e8a0f63064",
       "version_major": 2,
       "version_minor": 0
      },
      "text/plain": [
       "Map:   0%|          | 0/50000 [00:00<?, ? examples/s]"
      ]
     },
     "metadata": {},
     "output_type": "display_data"
    }
   ],
   "source": [
    "from transformers import BertTokenizer\n",
    "\n",
    "# Load BERT tokenizer\n",
    "bert_tokenizer = BertTokenizer.from_pretrained('bert-base-uncased')\n",
    "\n",
    "# Define a tokenization function for the dataset\n",
    "def tokenize_function(examples):\n",
    "    return bert_tokenizer(examples[\"text\"], padding=\"max_length\", truncation=True, max_length=128)\n",
    "\n",
    "# Tokenize the datasets (batched processing)\n",
    "tokenized_datasets = dataset.map(tokenize_function, batched=True)\n",
    "# Remove the original text column to speed up training\n",
    "tokenized_datasets = tokenized_datasets.remove_columns([\"text\"])\n",
    "# Set the format to PyTorch tensors\n",
    "tokenized_datasets.set_format(\"torch\")\n"
   ]
  },
  {
   "cell_type": "code",
   "execution_count": null,
   "metadata": {},
   "outputs": [],
   "source": [
    "train_dataset = tokenized_datasets[\"train\"]\n",
    "test_dataset = tokenized_datasets[\"test\"]\n"
   ]
  },
  {
   "cell_type": "code",
   "execution_count": null,
   "metadata": {},
   "outputs": [],
   "source": [
    "from transformers import BertForSequenceClassification, Trainer, TrainingArguments\n",
    "\n",
    "# Load pre-trained BERT for sequence classification (binary classification: num_labels=2)\n",
    "bert_model = BertForSequenceClassification.from_pretrained('bert-base-uncased', num_labels=2)\n",
    "\n",
    "# Define training arguments\n",
    "training_args = TrainingArguments(\n",
    "    output_dir=\"./bert_results\",\n",
    "    num_train_epochs=2,               # adjust epochs as needed\n",
    "    per_device_train_batch_size=8,\n",
    "    per_device_eval_batch_size=8,\n",
    "    evaluation_strategy=\"epoch\",\n",
    "    save_strategy=\"epoch\",\n",
    "    logging_dir='./bert_logs',\n",
    ")\n",
    "\n",
    "# Define the Trainer for BERT\n",
    "trainer = Trainer(\n",
    "    model=bert_model,\n",
    "    args=training_args,\n",
    "    train_dataset=train_dataset,\n",
    "    eval_dataset=test_dataset,\n",
    ")\n",
    "\n",
    "# Train the BERT model (initially, you could freeze BERT layers here if desired)\n",
    "trainer.train()\n"
   ]
  },
  {
   "cell_type": "code",
   "execution_count": null,
   "metadata": {},
   "outputs": [],
   "source": [
    "# For full fine-tuning, ensure that all parameters are trainable\n",
    "for param in bert_model.bert.parameters():\n",
    "    param.requires_grad = True\n",
    "\n",
    "# Continue fine-tuning with a few more epochs\n",
    "training_args.num_train_epochs = 2  # Additional epochs for fine-tuning\n",
    "trainer.train()\n"
   ]
  },
  {
   "cell_type": "code",
   "execution_count": null,
   "metadata": {},
   "outputs": [],
   "source": [
    "results = trainer.evaluate()\n",
    "print(results)\n"
   ]
  },
  {
   "cell_type": "code",
   "execution_count": null,
   "metadata": {},
   "outputs": [],
   "source": [
    "import matplotlib.pyplot as plt\n",
    "\n",
    "plt.plot(history_baseline.history['accuracy'], label='train accuracy')\n",
    "plt.plot(history_baseline.history['val_accuracy'], label='val accuracy')\n",
    "plt.xlabel('Epoch')\n",
    "plt.ylabel('Accuracy')\n",
    "plt.legend()\n",
    "plt.title('Baseline Model Accuracy')\n",
    "plt.show()\n"
   ]
  }
 ],
 "metadata": {
  "kernelspec": {
   "display_name": "base",
   "language": "python",
   "name": "python3"
  },
  "language_info": {
   "codemirror_mode": {
    "name": "ipython",
    "version": 3
   },
   "file_extension": ".py",
   "mimetype": "text/x-python",
   "name": "python",
   "nbconvert_exporter": "python",
   "pygments_lexer": "ipython3",
   "version": "3.11.4"
  }
 },
 "nbformat": 4,
 "nbformat_minor": 2
}
